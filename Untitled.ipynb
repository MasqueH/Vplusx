{
 "cells": [
  {
   "cell_type": "code",
   "execution_count": 1,
   "metadata": {},
   "outputs": [],
   "source": [
    "import numpy as np\n",
    "import pandas as pd\n",
    "import decimal as dc \n",
    "\n",
    "#decimal精度控制\n",
    "dc.getcontext().prec = 6"
   ]
  },
  {
   "cell_type": "code",
   "execution_count": null,
   "metadata": {},
   "outputs": [],
   "source": [
    "#通用的柱状图绘制\n",
    "import matplotlib.pyplot as plt\n",
    "plt.bar(range(v_length),tick_label=endMap.get('资产负债表-项目',['2015年','2016年','2017年','2018年','2019年']))\n",
    "plt.show()"
   ]
  },
  {
   "cell_type": "code",
   "execution_count": null,
   "metadata": {},
   "outputs": [],
   "source": [
    "#对返回的数据进行排列   按照年份递增进行排列"
   ]
  },
  {
   "cell_type": "code",
   "execution_count": 2,
   "metadata": {},
   "outputs": [],
   "source": [
    "#匹配map的key  取出所需的value\n",
    "\n",
    "# 资产负债表    合并利润表    现金流量表\n",
    "testMap = {\"资产负债表-预付款项(元)\" : [\"100,2000014,566.0002\",\"200,214,566.0002\",None,\"400,214,566.0002\",\"500,214,566.0002\"]\n",
    "          ,\"资产负债表-应收账款(元)\" : [\"10,214,566.0002\",\"20,214,566.0002\",\"30,214,566.0002\",\"\",\"50,214,566.0002\"]\n",
    "          ,\"资产负债表-其他应收款(元)\" : [\"1,214,566.0002\",\"2,214,566.0002\",\"3,214,566.0002\",\"  \",\"5,214,566.0002\"]\n",
    "          ,'资产负债表-资产合计':[\"1,214,566.0002\",\"2,214,566.0002\",\"3,214,566.0002\",\"  \",\"5,214,566.0002\"]\n",
    "          ,'资产负债表-负债合计':[\"1,014,566.0002\",\"1,214,566.0002\",\"2,214,566.0002\",\"  \",\"1,214,566.0002\"]\n",
    "          ,'资产负债表-应付票据及应付账款':[\"1,014,566.0002\",\"1,214,566.0002\",\"2,214,566.0002\",\"  \",\"1,214,566.0002\"]\n",
    "          ,'资产负债表-预收账款':[\"1,014,566.0002\",\"1,214,566.0002\",\"2,214,566.0002\",\"  \",\"1,214,566.0002\"]\n",
    "          ,'资产负债表-应收票据':[\"1,014,566.0002\",\"1,214,566.0002\",\"2,214,566.0002\",\"  \",\"1,214,566.0002\"]\n",
    "          ,'资产负债表-应收账款':[\"1,014,566.0002\",\"1,214,566.0002\",\"2,214,566.0002\",\"  \",\"1,214,566.0002\"]\n",
    "          ,'资产负债表-预付账款':[\"1,014,566.0002\",\"1,214,566.0002\",\"2,214,566.0002\",\"  \",\"1,214,566.0002\"]\n",
    "          ,'资产负债表-固定资产':[\"1,014,566.0002\",\"1,214,566.0002\",\"2,214,566.0002\",\"  \",\"1,214,566.0002\"]\n",
    "          ,'资产负债表-在建工程':[\"1,014,566.0002\",\"1,214,566.0002\",\"2,214,566.0002\",\"  \",\"1,214,566.0002\"]\n",
    "          ,'资产负债表-工程物资':[\"1,014,566.0002\",\"1,214,566.0002\",\"2,214,566.0002\",\"  \",\"1,214,566.0002\"]}\n",
    "\n",
    "#判断字符串非空\n",
    "def isNotEmpty(x):\n",
    "    if x is None or len(x) == 0 or len(x.strip()) == 0 :return False\n",
    "    else: return True\n",
    "        \n",
    "    \n",
    "#转换数字中的千分位\n",
    "def formatString2Decimal(string):\n",
    "    if isNotEmpty(string):\n",
    "       return dc.Decimal(string.replace(\",\",\"\"))\n",
    "    else :return dc.Decimal('0.00001')\n",
    "\n",
    "#迭代打印\n",
    "def printIter(x):\n",
    "    for item in x:\n",
    "        print(item)\n",
    "\n",
    "        "
   ]
  },
  {
   "cell_type": "code",
   "execution_count": 3,
   "metadata": {},
   "outputs": [],
   "source": [
    "endMap = {}\n",
    "\n",
    "v_length = len(testMap['资产负债表-资产合计'])\n",
    "default_list = [dc.Decimal(0.00001)]*v_length"
   ]
  },
  {
   "cell_type": "code",
   "execution_count": 4,
   "metadata": {},
   "outputs": [],
   "source": [
    "#对元组中数据做替换千分位的操作\n",
    "for key in testMap.keys():\n",
    "    endMap[key] = list(map(lambda x: formatString2Decimal(x),testMap[key]))"
   ]
  },
  {
   "cell_type": "code",
   "execution_count": 5,
   "metadata": {},
   "outputs": [
    {
     "name": "stdout",
     "output_type": "stream",
     "text": [
      "[0.0, Decimal('0.823339'), Decimal('0.451556'), Decimal('-1.00000'), Decimal('5.21457E+11')]\n"
     ]
    }
   ],
   "source": [
    "default_denominator = dc.Decimal(0.0001)\n",
    "default_length=5\n",
    "#增长率计算  \n",
    "def getSelfRate(x,v_length = default_length):\n",
    "    res = [0.0]*v_length\n",
    "    for i in range(v_length - 1) :            \n",
    "        res[i + 1] = (x[i + 1]-x[i])/x[i]\n",
    "    return res\n",
    "        \n",
    "print(getSelfRate(endMap['资产负债表-资产合计']))"
   ]
  },
  {
   "cell_type": "code",
   "execution_count": 6,
   "metadata": {},
   "outputs": [
    {
     "name": "stdout",
     "output_type": "stream",
     "text": [
      "[Decimal('0.835332'), Decimal('0.548444'), Decimal('0.688916'), Decimal('1'), Decimal('0.232918')]\n"
     ]
    }
   ],
   "source": [
    "#负债率计算  x--> 总资产   y--> 总负债\n",
    "#  两个参数  分子list  分母list\n",
    "def getRate(y,x):\n",
    "    if len(x) != len(y):\n",
    "        raise Exception(\"资产和负债年份长度不匹配\")  \n",
    "    res = [0.0]*len(x)\n",
    "    for i in range(len(x)) :\n",
    "        res[i] = y[i]/x[i]\n",
    "    return res\n",
    "        \n",
    "print(getRate(endMap['资产负债表-资产合计'],endMap['资产负债表-负债合计']))"
   ]
  },
  {
   "cell_type": "code",
   "execution_count": 48,
   "metadata": {},
   "outputs": [
    {
     "ename": "SyntaxError",
     "evalue": "unexpected EOF while parsing (<ipython-input-48-4ffabdea46d0>, line 18)",
     "output_type": "error",
     "traceback": [
      "\u001b[1;36m  File \u001b[1;32m\"<ipython-input-48-4ffabdea46d0>\"\u001b[1;36m, line \u001b[1;32m18\u001b[0m\n\u001b[1;33m    \u001b[0m\n\u001b[1;37m    ^\u001b[0m\n\u001b[1;31mSyntaxError\u001b[0m\u001b[1;31m:\u001b[0m unexpected EOF while parsing\n"
     ]
    }
   ],
   "source": [
    "#第5步，看总资产，判断公司实力及扩张能力。（总资产看2点：一看金额，二看增长率）、\n",
    "#一般来说，总资产金额大的公司实力更强，总资产同比增长快的企业扩张能力更强。\n",
    "# 1.总资产 \n",
    "testMap['资产负债表-资产合计']\n",
    "\n",
    "totalAssets = np.array(endMap['资产负债表-资产合计'])\n",
    "#第6步，看资产负债率，判断公司的债务风险。资产负债率大于60%的企业，偿债风险较大，淘汰。\n",
    "# 2.总负债\n",
    "testMap['资产负债表-负债合计']\n",
    "\n",
    "#第7步，看有息负债和货币资金，判断偿债风险。（看2点：1看两者大小，\n",
    "#2看有无异常-比如货币资金和短期借款、长期借款金额都很大，很可能企业实际没钱）资产负债率大于40%，货币资金小于有息负债的公司，淘汰。\n",
    "# 3.货币资金\n",
    "# 4.短期借债\n",
    "# 一年内到期的非流动负债\n",
    "# 5.长期借债\n",
    "# 6.长期应付款合计   \n",
    "def getSolvencyRisk():\n",
    "    "
   ]
  },
  {
   "cell_type": "code",
   "execution_count": 7,
   "metadata": {},
   "outputs": [
    {
     "name": "stdout",
     "output_type": "stream",
     "text": [
      "[Decimal('-1.01457E+6') Decimal('-1.21457E+6') Decimal('-2.21457E+6')\n",
      " Decimal('-0.00001') Decimal('-1.21457E+6')]\n",
      "[Decimal('0.835332') Decimal('0.548444') Decimal('0.688916') Decimal('1')\n",
      " Decimal('0.232918')]\n"
     ]
    }
   ],
   "source": [
    "# 7.应付票据及应付账款    --> （应付票据及应付账款+预收账款）  -  （应收票据+应收账款+预付账款）\n",
    "#（看2点，1看应付预收-应收预付的差额，2看应收账款占总资产的比率）应收预付金额越小，代表公司竞争力越强，行业地位越高\n",
    "# 8.应付票据\n",
    "# 9.应付账款\n",
    "# 10.预收款项\n",
    "# 11.应收票据及应收账款\n",
    "# 12.应收票据\n",
    "# 13.应收账款\n",
    "# 14.预付款项\n",
    "\n",
    "#无偿占用上下游资金金额：\n",
    "def getFreeAmount(endMap):\n",
    "    return np.array(endMap['资产负债表-应付票据及应付账款']) + np.array(endMap['资产负债表-预收账款']) -\\\n",
    "            np.array(endMap['资产负债表-应收票据']) - np.array(endMap['资产负债表-应收账款']) - np.array(endMap['资产负债表-预付账款'])\n",
    "\n",
    "print(np.array(endMap['资产负债表-应付票据及应付账款']) + np.array(endMap['资产负债表-预收账款']) - \\\n",
    "      np.array(endMap['资产负债表-应收票据']) - np.array(endMap['资产负债表-应收账款']) - np.array(endMap['资产负债表-预付账款']))\n",
    "\n",
    "#应收账款占总资产比例\n",
    "def getDebtReceivable(endMap):\n",
    "    pass\n",
    "print(np.array(endMap['资产负债表-应收账款'])/np.array(endMap['资产负债表-资产合计']))"
   ]
  },
  {
   "cell_type": "code",
   "execution_count": 22,
   "metadata": {},
   "outputs": [
    {
     "name": "stdout",
     "output_type": "stream",
     "text": [
      "[Decimal('0.0000300000') Decimal('0.0000300000') Decimal('0.0000300000')\n",
      " Decimal('0.0000300000') Decimal('0.0000300000')]\n",
      "[Decimal('0.0000200000') Decimal('0.0000200000') Decimal('0.0000200000')\n",
      " Decimal('1.00002') Decimal('0.0000200000')]\n"
     ]
    }
   ],
   "source": [
    "#第9步，看固定资产，判断公司的轻重。（固定资产+在建工程+工程物资）//总资产*100%>40%,属于重资产型公司，\n",
    "#反之轻资产公司）重资产型公司维持竞争力的成本比较高，风险比较大，但不代表公司盈利能力差。\n",
    "#固定资产\n",
    "#在建工程\n",
    "#工程物资\n",
    "\n",
    "#固定资产及在建工程占总资产比率\n",
    "def getFixedAssetsRate(endMap):\n",
    "    pass\n",
    "\n",
    "default_list = [dc.Decimal(0.00001)]*v_length\n",
    "print(np.array(endMap.get('资产负债表-固定资产',default_list)) + np.array(endMap.get('资产负债表-在建工程',default_list)) + np.array(endMap.get('资产负债表-工程物资',default_list)))\n",
    "print(np.array(endMap.get('资产负债表-固定资产',default_list)) + np.array(endMap.get('资产负债表-在建工程',default_list)) + np.array(endMap.get('资产负债表-工程物资',default_list))/np.array(endMap.get('资产负债表-资产合计',default_list)))"
   ]
  },
  {
   "cell_type": "code",
   "execution_count": 23,
   "metadata": {},
   "outputs": [
    {
     "name": "stdout",
     "output_type": "stream",
     "text": [
      "[Decimal('0.0000400000') Decimal('0.0000400000') Decimal('0.0000400000')\n",
      " Decimal('0.0000400000') Decimal('0.0000400000')]\n"
     ]
    }
   ],
   "source": [
    "#第10步，看投资类资产，判断公司的专注程度。优秀公司的主业无关的投资类资产很多为0，主业无关的投资类资产占总资产比率大于10%的公司淘汰掉\n",
    "#以公允价值计量且其变动计入当期损益的金融资产\n",
    "#可供出售金融资产\n",
    "#持有至到期投资 \n",
    "#投资性房地产\n",
    "#长期股权投资\n",
    "\n",
    "#与主业无关的投资\n",
    "def getIndependenceInvestRate():\n",
    "    pass\n",
    "\n",
    "print(np.array(endMap.get('资产负债表-可供出售金融资产',default_list)) + np.array(endMap.get('资产负债表-投资性房地产',default_list)) +\\\n",
    "      np.array(endMap.get('资产负债表-以公允价值计量且其变动计入当期损益的金融负债',default_list)) + np.array(endMap.get('资产负债表-长期股权投资',default_list)))"
   ]
  },
  {
   "cell_type": "code",
   "execution_count": 24,
   "metadata": {},
   "outputs": [],
   "source": [
    "#第11步，把合并利润表和现金流量表各个科目看一遍，标记异常科目。(占总资产比率大于3%且增降幅度大于30%的异常科目标)\n",
    "\n",
    "abnormalMap = {}\n",
    "#打印异常科目\n",
    "def getAbnormalSubject(endMap):\n",
    "    for key in endMap.keys:\n",
    "        if key.startswith('合并利润表-') or key.startswith('现金流量表-') :\n",
    "            abnormalMap[key] = np.array(endMap.get(key,default_list))/totalAssets\n",
    "    return abnormalMap\n",
    "    \n"
   ]
  },
  {
   "cell_type": "code",
   "execution_count": null,
   "metadata": {},
   "outputs": [],
   "source": [
    "#第12步，搜索异常科目，查明原因。"
   ]
  },
  {
   "cell_type": "code",
   "execution_count": null,
   "metadata": {},
   "outputs": [],
   "source": [
    "#第13步，看营业收入，判断公司的行业地位及成长能力。\n",
    "#销售商品、提供劳务收到的现金”与“营业收入”的比率小于100%的公司、营业收入增长率小于10%的公司淘汰掉\n",
    "#销售商品、提供劳务收到的现金\n",
    "#营业收入\n",
    "\n",
    "#销售商品、提供劳务收到的现金/营业收入   \n",
    "print(getSelfRate(endMap['合并利润表-营业收入']))\n",
    "#营业收入增长率\n",
    "print(getRate(endMap['合并利润表-销售商品、提供劳务收到的现金'],endMap['合并利润表-营业收入']))"
   ]
  },
  {
   "cell_type": "code",
   "execution_count": null,
   "metadata": {},
   "outputs": [],
   "source": [
    "#第14步，看毛利率，判断公司产品的竞争力。毛利率高的公司，竞争力较强，风险相对较小。毛利率小于40%的公司，淘汰\n",
    "endMap['毛利'] = np.array(endMap.get('合并利润表-营业收入',default_list)) - np.array(endMap.get('合并利润表-营业成本',default_list)）\n",
    "print(endMap['毛利'])\n",
    "print(getRate(endMap['毛利'],endMap['合并利润表-营业收入']))"
   ]
  },
  {
   "cell_type": "code",
   "execution_count": null,
   "metadata": {},
   "outputs": [],
   "source": [
    "#第15步，看费用率，判断公司成本管控能力。优秀公司的费用率与毛利率的比率一般小于40%。\n",
    "#（财务费用是负数，则保守期算法暂不参与计算）费用率与毛利率的比率大于60%的公司，淘汰。\n",
    "#营业收入\n",
    "#销售费用\n",
    "#管理费用\n",
    "#研发费用\n",
    "#财务费用\n",
    "endMap['总费用'] = np.array(endMap.get('合并利润表-销售费用',default_list)) +\\\n",
    "                    np.array(endMap.get('合并利润表-管理费用',default_list)）+\\\n",
    "                     np.array(endMap.get('合并利润表-研发费用',default_list)）+\\\n",
    "                       np.array(endMap.get('合并利润表-财务费用',default_list)  #这里要对财务费用做判断  小于0的时候取值为0\n",
    "print(endMap['总费用'])\n",
    "#费用率\n",
    "print(getRate(endMap['总费用'],endMap['合并利润表-营业收入']))\n",
    "#费用/毛利\n",
    "print(getRate(endMap['总费用'],endMap['毛利']))"
   ]
  },
  {
   "cell_type": "code",
   "execution_count": null,
   "metadata": {},
   "outputs": [],
   "source": [
    "#第16步，看主营利润，判断公司的盈利能力及利润质量。毛利率大于40%的公司，主营利润率至少应该大于15%。主营利润率小于15%的公司，淘汰。\n",
    "#营业利润\n",
    "#利润总额\n",
    "\n",
    "#营业利润率\n",
    "print(getRate(endMap['合并利润表-营业利润'],endMap['合并利润表-营业收入']))\n",
    "#营业利润/利润总额\n",
    "print(getRate(endMap['合并利润表-营业利润'],endMap['合并利润表-利润总额']))"
   ]
  },
  {
   "cell_type": "code",
   "execution_count": null,
   "metadata": {},
   "outputs": [],
   "source": [
    "#第17步，看净利润，判断公司的经营成果及含金量。净利润金额越大越好。\n",
    "#优秀公司的“净利润现金比率”会持续的大于100%，净利润小于0的公司，直接淘汰掉\n",
    "#净利润\n",
    "#经营活动产生的现金流量净额\n",
    "\n",
    "#净利润现金比率\n",
    "print(getRate(endMap['合并利润表-经营活动产生的现金流量净额'],endMap['合并利润表-净利润']))"
   ]
  },
  {
   "cell_type": "code",
   "execution_count": null,
   "metadata": {},
   "outputs": [],
   "source": [
    "#第18步，看归母净利润，判断公司自有资本的获利能力。优秀公司的ROE一般会持续大于15%。ROE小于15%的公司，淘汰。需要看至少连续5年的数据。\n",
    "#归属于母公司所有者的综合收益总额\n",
    "#净利润\n",
    "#所有者权益\n",
    "\n",
    "#归属于母公司所有者的综合收益总额增长率\n",
    "print(getSelfRate(endMap['合并利润表-归属于母公司所有者的综合收益总额']))\n",
    "#净利润/所有者权益\n",
    "print(getRate(endMap['合并利润表-净利润'],endMap['合并利润表-所有者权益合计']))  # TODO   这个地方的所有者权益取值待确定"
   ]
  },
  {
   "cell_type": "code",
   "execution_count": null,
   "metadata": {},
   "outputs": [],
   "source": [
    "#第19步，看经营活动产生的现金流量净额，判断公司的造血能力。\n",
    "#营活动产生的现金流量净额越大，公司的造血能力越强经营活动产生的现金流量净额”持续小于（固定资产折旧和无形资产摊销+借款利息+现金股利）的公司，淘汰\n",
    "'''\n",
    "经营活动产生的现金流量净额\n",
    "固定资产折旧、油气资产折耗、生产性生物资产折旧\n",
    "无形资产摊销\n",
    "长期待摊费用摊销\n",
    "应付利息\n",
    "分配股利、利润或偿付利息支付的现金\n",
    "'''\n",
    "\n",
    "#摊销成本 = 固定资产折旧+无形资产摊销+长期资产摊销+借款利息+现金股利\n",
    "endMap['摊销成本'] = np.array(endMap.get('现金流量表-固定资产折旧、油气资产折耗、生产性生物资产折旧',default_list)) + np.array(endMap.get('现金流量表-无形资产摊销',default_list)) +、\n",
    "np.array(endMap.get('现金流量表-长期待摊费用摊销',default_list)) + np.array(endMap.get('现金流量表-应付利息',default_list)) + np.array(endMap.get('现金流量表-分配股利、利润或偿付利息支付的现金',default_list))\n",
    "\n",
    "#经营活动产生的现金流量净额-摊销成本\n",
    "print(np.array(endMap.get('现金流量表-经营活动产生的现金流量净额',default_list) - np.array(endMap.get('摊销成本',default_list)))"
   ]
  },
  {
   "cell_type": "code",
   "execution_count": null,
   "metadata": {},
   "outputs": [],
   "source": [
    "#第20步，看“购买固定资产、无形资产和其他长期资产支付的现金”，判断公司未来的成长能力。\n",
    "#成长能力较强的公司，“购买固定资产、无形资产和其他长期资产支付的现金”与“经营活动现金流量净额”比率一般在10%-60%之间，\n",
    "#这个比率连续2年高于100%或低于10%的公司，淘汰。\n",
    "\n",
    "#购建固定资产、无形资产和其他长期资产支付的现金\n",
    "print(getRate(endMap['合并利润表-购建固定资产、无形资产和其他长期资产支付的现金'],endMap['合并利润表-经营活动产生的现金流量净额']))\n",
    "#处置固定资产、无形资产和其他长期资产收回的现金净额\n",
    "print(getRate(endMap['合并利润表-处置固定资产、无形资产和其他长期资产收回的现金净额'],endMap['合并利润表-购建固定资产、无形资产和其他长期资产支付的现金']))"
   ]
  },
  {
   "cell_type": "code",
   "execution_count": null,
   "metadata": {},
   "outputs": [],
   "source": [
    "#第21步，看分红判断公司的品质。优秀公司每年分红，且分红率大于30%\n"
   ]
  },
  {
   "cell_type": "code",
   "execution_count": null,
   "metadata": {},
   "outputs": [],
   "source": [
    "#第22步，看三大活动现金流量净额的组合类型，选出最佳类型的公司。优秀公司的类型是正负负和正正负型，连续2年其他类型，淘汰。\n",
    "#经营活动产生的现金流量净额\n",
    "#投资活动产生的现金流量净额\n",
    "#筹资活动产生的现金流量净额\n",
    "\n",
    "#直接按照年份将这三个现金流量金额进行绘图  \n"
   ]
  },
  {
   "cell_type": "code",
   "execution_count": null,
   "metadata": {},
   "outputs": [],
   "source": [
    "#第23步，看“现金及现金等价物的净增加额”，判断公司的稳定性。\n",
    "#“如果为负数，再加上当年分红的金额，看是否为正数。现金及现金等价物的净增加额持续小于0的公司很难稳定持续保持现有的竞争力。\n",
    "\n",
    "#现金及现金等价物的净增加额+当年分红金额   if a<0 then a+b else a"
   ]
  }
 ],
 "metadata": {
  "kernelspec": {
   "display_name": "Python 3",
   "language": "python",
   "name": "python3"
  },
  "language_info": {
   "codemirror_mode": {
    "name": "ipython",
    "version": 3
   },
   "file_extension": ".py",
   "mimetype": "text/x-python",
   "name": "python",
   "nbconvert_exporter": "python",
   "pygments_lexer": "ipython3",
   "version": "3.7.0"
  }
 },
 "nbformat": 4,
 "nbformat_minor": 2
}
